{
 "cells": [
  {
   "cell_type": "code",
   "execution_count": 14,
   "id": "e3880ee5-92f4-4451-8efc-200638d85ced",
   "metadata": {
    "editable": true,
    "slideshow": {
     "slide_type": ""
    },
    "tags": []
   },
   "outputs": [
    {
     "ename": "FileNotFoundError",
     "evalue": "Shapefile not found in package data: C:\\omid\\Germany\\LandUse\\landuse_v1\\landuse_v1\\Data\\Yearly\\DE_drought_NUTS1_2020\\DE_drought_NUTS1_2020.shp",
     "output_type": "error",
     "traceback": [
      "\u001b[31m---------------------------------------------------------------------------\u001b[39m",
      "\u001b[31mFileNotFoundError\u001b[39m                         Traceback (most recent call last)",
      "\u001b[36mCell\u001b[39m\u001b[36m \u001b[39m\u001b[32mIn[14]\u001b[39m\u001b[32m, line 6\u001b[39m\n\u001b[32m      1\u001b[39m \u001b[38;5;28;01mfrom\u001b[39;00m\u001b[38;5;250m \u001b[39m\u001b[34;01mlanduse_v1\u001b[39;00m\u001b[34;01m.\u001b[39;00m\u001b[34;01mhandlers\u001b[39;00m\u001b[34;01m.\u001b[39;00m\u001b[34;01mnuts\u001b[39;00m\u001b[38;5;250m \u001b[39m\u001b[38;5;28;01mimport\u001b[39;00m NUTSHandler\n\u001b[32m      5\u001b[39m \u001b[38;5;66;03m# Example: load DE air temperature data for NUTS3 in 2018\u001b[39;00m\n\u001b[32m----> \u001b[39m\u001b[32m6\u001b[39m nh = \u001b[43mNUTSHandler\u001b[49m\u001b[43m(\u001b[49m\u001b[43mcountry_code\u001b[49m\u001b[43m=\u001b[49m\u001b[33;43m\"\u001b[39;49m\u001b[33;43mDE\u001b[39;49m\u001b[33;43m\"\u001b[39;49m\u001b[43m,\u001b[49m\u001b[43m \u001b[49m\u001b[43mfile_name\u001b[49m\u001b[43m=\u001b[49m\u001b[33;43m\"\u001b[39;49m\u001b[33;43mdrought\u001b[39;49m\u001b[33;43m\"\u001b[39;49m\u001b[43m,\u001b[49m\u001b[43m \u001b[49m\u001b[43mnuts_level\u001b[49m\u001b[43m=\u001b[49m\u001b[32;43m1\u001b[39;49m\u001b[43m,\u001b[49m\u001b[43m \u001b[49m\u001b[43myear\u001b[49m\u001b[43m=\u001b[49m\u001b[32;43m2020\u001b[39;49m\u001b[43m)\u001b[49m\n\u001b[32m      8\u001b[39m \u001b[38;5;66;03m# List all mean columns\u001b[39;00m\n\u001b[32m      9\u001b[39m \u001b[38;5;28mprint\u001b[39m(nh.mean_columns())\n",
      "\u001b[36mFile \u001b[39m\u001b[32mC:\\omid\\Germany\\LandUse\\landuse_v1\\landuse_v1\\handlers\\nuts.py:33\u001b[39m, in \u001b[36mNUTSHandler.__init__\u001b[39m\u001b[34m(self, country_code, file_name, nuts_level, year)\u001b[39m\n\u001b[32m     30\u001b[39m \u001b[38;5;28mself\u001b[39m.shp_file = folder_path / \u001b[33mf\u001b[39m\u001b[33m\"\u001b[39m\u001b[38;5;132;01m{\u001b[39;00mfolder_name\u001b[38;5;132;01m}\u001b[39;00m\u001b[33m.shp\u001b[39m\u001b[33m\"\u001b[39m\n\u001b[32m     32\u001b[39m \u001b[38;5;28;01mif\u001b[39;00m \u001b[38;5;129;01mnot\u001b[39;00m \u001b[38;5;28mself\u001b[39m.shp_file.exists():\n\u001b[32m---> \u001b[39m\u001b[32m33\u001b[39m     \u001b[38;5;28;01mraise\u001b[39;00m \u001b[38;5;167;01mFileNotFoundError\u001b[39;00m(\u001b[33mf\u001b[39m\u001b[33m\"\u001b[39m\u001b[33mShapefile not found in package data: \u001b[39m\u001b[38;5;132;01m{\u001b[39;00m\u001b[38;5;28mself\u001b[39m.shp_file\u001b[38;5;132;01m}\u001b[39;00m\u001b[33m\"\u001b[39m)\n\u001b[32m     35\u001b[39m \u001b[38;5;28mself\u001b[39m.gdf = gpd.read_file(\u001b[38;5;28mself\u001b[39m.shp_file)\n",
      "\u001b[31mFileNotFoundError\u001b[39m: Shapefile not found in package data: C:\\omid\\Germany\\LandUse\\landuse_v1\\landuse_v1\\Data\\Yearly\\DE_drought_NUTS1_2020\\DE_drought_NUTS1_2020.shp"
     ]
    }
   ],
   "source": [
    "from landuse_v1.handlers.nuts import NUTSHandler\n",
    "\n",
    "\n",
    "\n",
    "# Example: load DE air temperature data for NUTS3 in 2018\n",
    "nh = NUTSHandler(country_code=\"DE\", file_name=\"drought\", nuts_level=1, year=2020)\n",
    "\n",
    "# List all mean columns\n",
    "print(nh.mean_columns())\n",
    "\n",
    "# Plot the first mean column\n",
    "nh.plot_mean()\n",
    "\n"
   ]
  },
  {
   "cell_type": "code",
   "execution_count": null,
   "id": "6ef03fc8-fc38-4df7-9296-3d14db73e9ba",
   "metadata": {},
   "outputs": [],
   "source": []
  }
 ],
 "metadata": {
  "kernelspec": {
   "display_name": "Python 3",
   "language": "python",
   "name": "python3"
  },
  "language_info": {
   "codemirror_mode": {
    "name": "ipython",
    "version": 3
   },
   "file_extension": ".py",
   "mimetype": "text/x-python",
   "name": "python",
   "nbconvert_exporter": "python",
   "pygments_lexer": "ipython3",
   "version": "3.13.5"
  }
 },
 "nbformat": 4,
 "nbformat_minor": 5
}
